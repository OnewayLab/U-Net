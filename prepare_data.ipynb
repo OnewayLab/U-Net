{
 "cells": [
  {
   "attachments": {},
   "cell_type": "markdown",
   "metadata": {},
   "source": [
    "# 准备数据"
   ]
  },
  {
   "attachments": {},
   "cell_type": "markdown",
   "metadata": {},
   "source": [
    "## 制作数据集\n",
    "\n",
    "从 Hugging Face 下载数据集 `segments/sidewalk-semantic`，按 7:1:2 切分训练-验证-测试集，然后存放到 `./data/sidewalk-semantic` 目录下。"
   ]
  },
  {
   "cell_type": "code",
   "execution_count": 1,
   "metadata": {},
   "outputs": [
    {
     "name": "stderr",
     "output_type": "stream",
     "text": [
      "c:\\Users\\18782\\miniconda3\\lib\\site-packages\\tqdm\\auto.py:22: TqdmWarning: IProgress not found. Please update jupyter and ipywidgets. See https://ipywidgets.readthedocs.io/en/stable/user_install.html\n",
      "  from .autonotebook import tqdm as notebook_tqdm\n",
      "Found cached dataset parquet (C:/Users/18782/.cache/huggingface/datasets/segments___parquet/segments--sidewalk-semantic-2-bb87025dee0a4a60/0.0.0/2a3b91fbd88a2c90d1dbbb32b460cf621d31bd5b05b934492fdef7d8d6f236ec)\n",
      "100%|██████████| 1/1 [00:00<00:00,  5.17it/s]\n",
      "100%|██████████| 1000/1000 [00:55<00:00, 18.17it/s]\n"
     ]
    }
   ],
   "source": [
    "from datasets import load_dataset\n",
    "from PIL import Image\n",
    "from tqdm import tqdm\n",
    "import os\n",
    "import random\n",
    "\n",
    "# 输出路径\n",
    "OUTPUT_PATH = \"./data/sidewalk-semantic\"\n",
    "image_path = os.path.join(OUTPUT_PATH, \"images\")\n",
    "mask_path = os.path.join(OUTPUT_PATH, \"masks\")\n",
    "os.makedirs(image_path, exist_ok=True)\n",
    "os.makedirs(mask_path, exist_ok=True)\n",
    "\n",
    "# 加载和保存数据集\n",
    "dataset = load_dataset(\"segments/sidewalk-semantic\", data_dir=\"data\")[\"train\"]\n",
    "id = 0\n",
    "for sample in tqdm(dataset):\n",
    "    image = sample[\"pixel_values\"]\n",
    "    mask = sample[\"label\"]\n",
    "    image.save(os.path.join(image_path, f\"{id}.jpg\"))\n",
    "    mask.save(os.path.join(mask_path, f\"{id}.png\"))\n",
    "    id += 1\n",
    "\n",
    "# 切分训练-验证-测试集，比例为7:1:2\n",
    "ids = list(range(id))\n",
    "random.shuffle(ids)\n",
    "train_ids = ids[:int(id*0.7)]\n",
    "val_ids = ids[int(id*0.7):int(id*0.8)]\n",
    "test_ids = ids[int(id*0.8):]\n",
    "with open(os.path.join(OUTPUT_PATH, \"train.txt\"), \"w\") as f:\n",
    "    train_ids_str = [str(i) for i in train_ids]\n",
    "    f.write(\"\\n\".join(train_ids_str))\n",
    "with open(os.path.join(OUTPUT_PATH, \"val.txt\"), \"w\") as f:\n",
    "    val_ids_str = [str(i) for i in val_ids]\n",
    "    f.write(\"\\n\".join(val_ids_str))\n",
    "with open(os.path.join(OUTPUT_PATH, \"test.txt\"), \"w\") as f:\n",
    "    test_ids_str = [str(i) for i in test_ids]\n",
    "    f.write(\"\\n\".join(test_ids_str))\n",
    "\n",
    "# 保存标签\n",
    "labels = [\n",
    "    \"unlabeled\",\n",
    "    \"flat-road\",\n",
    "    \"flat-sidewalk\",\n",
    "    \"flat-crosswalk\",\n",
    "    \"flat-cyclinglane\",\n",
    "    \"flat-parkingdriveway\",\n",
    "    \"flat-railtrack\",\n",
    "    \"flat-curb\",\n",
    "    \"human-person\",\n",
    "    \"human-rider\",\n",
    "    \"vehicle-car\",\n",
    "    \"vehicle-truck\",\n",
    "    \"vehicle-bus\",\n",
    "    \"vehicle-tramtrain\",\n",
    "    \"vehicle-motorcycle\",\n",
    "    \"vehicle-bicycle\",\n",
    "    \"vehicle-caravan\",\n",
    "    \"vehicle-cartrailer\",\n",
    "    \"construction-building\",\n",
    "    \"construction-door\",\n",
    "    \"construction-wall\",\n",
    "    \"construction-fenceguardrail\",\n",
    "    \"construction-bridge\",\n",
    "    \"construction-tunnel\",\n",
    "    \"construction-stairs\",\n",
    "    \"object-pole\",\n",
    "    \"object-trafficsign\",\n",
    "    \"object-trafficlight\",\n",
    "    \"nature-vegetation\",\n",
    "    \"nature-terrain\",\n",
    "    \"sky\",\n",
    "    \"void-ground\",\n",
    "    \"void-dynamic\",\n",
    "    \"void-static\",\n",
    "    \"void-uncle\",\n",
    "]\n",
    "with open(os.path.join(OUTPUT_PATH, \"labels.txt\"), \"w\") as f:\n",
    "    f.write(\"\\n\".join(labels))"
   ]
  },
  {
   "attachments": {},
   "cell_type": "markdown",
   "metadata": {},
   "source": [
    "## 计算均值和方差"
   ]
  },
  {
   "cell_type": "code",
   "execution_count": 2,
   "metadata": {},
   "outputs": [
    {
     "name": "stderr",
     "output_type": "stream",
     "text": [
      "100%|██████████| 700/700 [02:05<00:00,  5.58it/s]"
     ]
    },
    {
     "name": "stdout",
     "output_type": "stream",
     "text": [
      "[132.77355813 127.61624462 120.28149316] [58.87826301 56.10282104 59.22393147]\n"
     ]
    },
    {
     "name": "stderr",
     "output_type": "stream",
     "text": [
      "\n"
     ]
    }
   ],
   "source": [
    "from torch.utils.data import Subset\n",
    "import numpy as np\n",
    "\n",
    "# 获取训练集\n",
    "train_set = Subset(dataset[\"pixel_values\"], train_ids)\n",
    "\n",
    "# 计算均值和方差\n",
    "mean = 0\n",
    "std = 0\n",
    "for image in tqdm(train_set):\n",
    "    image = np.array(image)\n",
    "    mean += image.mean(axis=(0, 1))\n",
    "    std += image.std(axis=(0, 1))\n",
    "mean /= len(train_set)\n",
    "std /= len(train_set)\n",
    "print(mean, std)"
   ]
  },
  {
   "attachments": {},
   "cell_type": "markdown",
   "metadata": {},
   "source": [
    "## 抽样\n",
    "\n",
    "从训练集、验证集、测试集中分别抽取 30、10、10 个样本，存放到 `./data/sidewalk-semantic-sample` 目录下。"
   ]
  },
  {
   "cell_type": "code",
   "execution_count": 3,
   "metadata": {},
   "outputs": [
    {
     "name": "stderr",
     "output_type": "stream",
     "text": [
      "100%|██████████| 50/50 [00:02<00:00, 20.69it/s]\n"
     ]
    }
   ],
   "source": [
    "from random import sample\n",
    "\n",
    "# 保存路径\n",
    "OUTPUT_PATH = \"./data/sidewalk-semantic-sample\"\n",
    "image_path = os.path.join(OUTPUT_PATH, \"images\")\n",
    "mask_path = os.path.join(OUTPUT_PATH, \"masks\")\n",
    "os.makedirs(image_path, exist_ok=True)\n",
    "os.makedirs(mask_path, exist_ok=True)\n",
    "\n",
    "# 随机抽样\n",
    "train_sample_ids = sample(train_ids, 30)\n",
    "val_sample_ids = sample(val_ids, 10)\n",
    "test_sample_ids = sample(test_ids, 10)\n",
    "all_sample_ids = train_sample_ids + val_sample_ids + test_sample_ids\n",
    "\n",
    "# 保存数据集列表\n",
    "with open(os.path.join(OUTPUT_PATH, \"train.txt\"), \"w\") as f:\n",
    "    train_sample_ids = [str(i) for i in train_sample_ids]\n",
    "    f.write(\"\\n\".join(train_sample_ids))\n",
    "with open(os.path.join(OUTPUT_PATH, \"val.txt\"), \"w\") as f:\n",
    "    val_sample_ids = [str(i) for i in val_sample_ids]\n",
    "    f.write(\"\\n\".join(val_sample_ids))\n",
    "with open(os.path.join(OUTPUT_PATH, \"test.txt\"), \"w\") as f:\n",
    "    test_sample_ids = [str(i) for i in test_sample_ids]\n",
    "    f.write(\"\\n\".join(test_sample_ids))\n",
    "\n",
    "# 保存标签\n",
    "with open(os.path.join(OUTPUT_PATH, \"labels.txt\"), \"w\") as f:\n",
    "    f.write(\"\\n\".join(labels))\n",
    "\n",
    "# 保存图像和掩码\n",
    "for id in tqdm(all_sample_ids):\n",
    "    sample = dataset[id]\n",
    "    image = sample[\"pixel_values\"]\n",
    "    mask = sample[\"label\"]\n",
    "    image.save(os.path.join(image_path, f\"{id}.jpg\"))\n",
    "    mask.save(os.path.join(mask_path, f\"{id}.png\"))"
   ]
  }
 ],
 "metadata": {
  "kernelspec": {
   "display_name": "base",
   "language": "python",
   "name": "python3"
  },
  "language_info": {
   "codemirror_mode": {
    "name": "ipython",
    "version": 3
   },
   "file_extension": ".py",
   "mimetype": "text/x-python",
   "name": "python",
   "nbconvert_exporter": "python",
   "pygments_lexer": "ipython3",
   "version": "3.9.16"
  },
  "orig_nbformat": 4
 },
 "nbformat": 4,
 "nbformat_minor": 2
}
